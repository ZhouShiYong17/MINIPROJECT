{
 "cells": [
  {
   "cell_type": "markdown",
   "metadata": {},
   "source": [
    "# Creating a scoring function"
   ]
  },
  {
   "cell_type": "markdown",
   "metadata": {},
   "source": [
    "When exploring the competitive-matches dataset, we found something interesting:"
   ]
  },
  {
   "cell_type": "markdown",
   "metadata": {},
   "source": [
    "    >>> competitive.groupby(['p1', 'p2', 'p3', 'p4', 'p5']).apply(len).value_counts()\n",
    "    1    14045  \n",
    "    2      519  \n",
    "    3       43  \n",
    "    4        7  \n",
    "    dtype: int64  "
   ]
  },
  {
   "cell_type": "markdown",
   "metadata": {},
   "source": [
    "As we can see from above, theres only 7 team compositions that were played 4 times in competitive matches. That forms less than 0.05% of the number of unique team compositions played in competitions. 96.1% of the team compositions seen **were played only once**. That makes sense if you think about there being 464,306,843 (143C5) different ways to compose a team as of early 2019. "
   ]
  },
  {
   "cell_type": "markdown",
   "metadata": {},
   "source": [
    "## Why do we need to come up with a scoring function?"
   ]
  },
  {
   "cell_type": "markdown",
   "metadata": {},
   "source": [
    "    >>> competitive.groupby(['p1', 'p2', 'p3', 'p4', 'p5'])['win'].apply(np.mean).value_counts()\n",
    "    0.000000    7170\n",
    "    1.000000    7130\n",
    "    0.500000     280\n",
    "    0.333333      19\n",
    "    0.666667      14\n",
    "    0.250000       1\n",
    "    Name: win, dtype: int64"
   ]
  },
  {
   "cell_type": "markdown",
   "metadata": {},
   "source": [
    "From above, it is obvious that mean is not a good scoring function for our dataset. There are 569 unique combinations in total that were played more than once. Out of those, at least 314 of them were penalised by the mean function as they had a loss in one of the matches. This means that the mean function views 2/3 wins worse than 1/1 wins which is absolutely undesirable (2-1 should be better than 1-0). Hence, we have to come up with a new scoring function that can bring justice to such scenarios. Furthermore, we would also like a function that outputs a negative number for more likely to lose which mean cannot do as it is always positive for this dataset.\n",
    "\n",
    "    Option A: goodpickscore(n_wins, n) = win_rate(n_wins, n) + bias(n)\n",
    "    Option B: goodpickscore(n_wins, n) = win_rate(n_wins, n) * bias(n)\n",
    "\n",
    "Our bias function may change depending on whether we choose + or \\*. Our bias function basically determines whether the team composition is more \"reliable\", that is, whether it has been played for a few times rather than only once.\n",
    "\n",
    "### Tests\n",
    "\n",
    "Test 1: goodpickscore(2,3) > goodpickscore(1,1)  \n",
    "Test 2: goodpickscore(7,12) < goodpickscore(4,6)  \n",
    "\n",
    "\n",
    "### Win rate\n",
    "Let us first define our win_rate function:\n",
    "\\begin{equation*}\n",
    "winrate(n_{wins}, n) = \\frac{n_{wins} - n_{loss}}{n} = \\frac{n_{wins} - (n - n_{wins})}{n} = \\frac{2n_{wins} - n }{n} = \\frac{2n_{wins}}{n} - 1\n",
    "\\end{equation*}\n",
    "\n",
    "This function has a range of -1 to 1."
   ]
  },
  {
   "cell_type": "code",
   "execution_count": 1,
   "metadata": {},
   "outputs": [
    {
     "data": {
      "text/plain": [
       "[<matplotlib.lines.Line2D at 0x1ece9af6e80>]"
      ]
     },
     "execution_count": 1,
     "metadata": {},
     "output_type": "execute_result"
    },
    {
     "data": {
      "image/png": "[encoded data removed]",
      "text/plain": [
       "<Figure size 432x288 with 1 Axes>"
      ]
     },
     "metadata": {
      "needs_background": "light"
     },
     "output_type": "display_data"
    }
   ],
   "source": [
    "%matplotlib inline\n",
    "import matplotlib.pyplot as plt\n",
    "import numpy as np\n",
    "\n",
    "def win_rate(n_wins, n):\n",
    "    return 2*(n_wins/n) - 1\n",
    "\n",
    "X = np.arange(5)\n",
    "plt.plot(X, [win_rate(x, 4) for x in X])\n",
    "# 4 matches, 5 outcomes:\n",
    "# 0W4L (0.0, -1.00),\n",
    "# 1W3L (1.0, -0.50),\n",
    "# 2W2L (2.0,  0.00),\n",
    "# 3W1L (3.0,  0.50),\n",
    "# 4W0L (4.0,  1.00)"
   ]
  },
  {
   "cell_type": "markdown",
   "metadata": {},
   "source": [
    "### Option A\n",
    "\n",
    "    goodpickscore(n_wins, n) = win_rate(n_wins, n) + bias(n)\n",
    "\n",
    "Let's try sigmoidal function for bias as they range from -1 to 1. This means it cannot overpower the win_rate (by that much). In this case we shall use tanh."
   ]
  },
  {
   "cell_type": "code",
   "execution_count": 2,
   "metadata": {},
   "outputs": [
    {
     "data": {
      "text/plain": [
       "1.0"
      ]
     },
     "execution_count": 2,
     "metadata": {},
     "output_type": "execute_result"
    }
   ],
   "source": [
    "win_rate(1,1)"
   ]
  },
  {
   "cell_type": "code",
   "execution_count": 3,
   "metadata": {},
   "outputs": [
    {
     "data": {
      "text/plain": [
       "0.33333333333333326"
      ]
     },
     "execution_count": 3,
     "metadata": {},
     "output_type": "execute_result"
    }
   ],
   "source": [
    "win_rate(2,3)"
   ]
  },
  {
   "cell_type": "code",
   "execution_count": 4,
   "metadata": {},
   "outputs": [
    {
     "data": {
      "text/plain": [
       "0.16666666666666674"
      ]
     },
     "execution_count": 4,
     "metadata": {},
     "output_type": "execute_result"
    }
   ],
   "source": [
    "win_rate(7,12)"
   ]
  },
  {
   "cell_type": "code",
   "execution_count": 5,
   "metadata": {},
   "outputs": [
    {
     "data": {
      "text/plain": [
       "1.7615941559557649"
      ]
     },
     "execution_count": 5,
     "metadata": {},
     "output_type": "execute_result"
    }
   ],
   "source": [
    "win_rate(1,1) + np.tanh(1)"
   ]
  },
  {
   "cell_type": "code",
   "execution_count": 6,
   "metadata": {},
   "outputs": [
    {
     "data": {
      "text/plain": [
       "1.3283880870200637"
      ]
     },
     "execution_count": 6,
     "metadata": {},
     "output_type": "execute_result"
    }
   ],
   "source": [
    "# tanh did not give 2-1 an edge over 1-0.\n",
    "win_rate(2,3) + np.tanh(3)"
   ]
  },
  {
   "cell_type": "code",
   "execution_count": 7,
   "metadata": {},
   "outputs": [
    {
     "data": {
      "text/plain": [
       "1.3333210449841288"
      ]
     },
     "execution_count": 7,
     "metadata": {},
     "output_type": "execute_result"
    }
   ],
   "source": [
    "# Although win_rate is the same as the previous, tanh gave n=6 a slight edge over n=3.\n",
    "win_rate(4,6) + np.tanh(6)"
   ]
  },
  {
   "cell_type": "code",
   "execution_count": 8,
   "metadata": {},
   "outputs": [
    {
     "data": {
      "text/plain": [
       "1.166666666591164"
      ]
     },
     "execution_count": 8,
     "metadata": {},
     "output_type": "execute_result"
    }
   ],
   "source": [
    "# tanh does not overcompensate if the winrate was lower\n",
    "win_rate(7,12) + np.tanh(12)"
   ]
  },
  {
   "cell_type": "code",
   "execution_count": 9,
   "metadata": {},
   "outputs": [
    {
     "data": {
      "text/plain": [
       "1.4621171572600098"
      ]
     },
     "execution_count": 9,
     "metadata": {},
     "output_type": "execute_result"
    }
   ],
   "source": [
    "# how about tanh(0.5x)?\n",
    "win_rate(1,1) + np.tanh(0.5*1)"
   ]
  },
  {
   "cell_type": "code",
   "execution_count": 10,
   "metadata": {},
   "outputs": [
    {
     "data": {
      "text/plain": [
       "1.2384815869781995"
      ]
     },
     "execution_count": 10,
     "metadata": {},
     "output_type": "execute_result"
    }
   ],
   "source": [
    "# Looks like tanh(0.5x) still can't help 2-1 be favoured over 1-0.\n",
    "win_rate(2,3) + np.tanh(0.5*3)"
   ]
  },
  {
   "cell_type": "code",
   "execution_count": 11,
   "metadata": {},
   "outputs": [
    {
     "data": {
      "text/plain": [
       "1.7310585786300048"
      ]
     },
     "execution_count": 11,
     "metadata": {},
     "output_type": "execute_result"
    }
   ],
   "source": [
    "def sigmoid(x):\n",
    "    return 1/(1+np.exp(-x))\n",
    "\n",
    "win_rate(1,1) + sigmoid(1)"
   ]
  },
  {
   "cell_type": "code",
   "execution_count": 12,
   "metadata": {},
   "outputs": [
    {
     "data": {
      "text/plain": [
       "1.2859074601557667"
      ]
     },
     "execution_count": 12,
     "metadata": {},
     "output_type": "execute_result"
    }
   ],
   "source": [
    "win_rate(2,3) + sigmoid(3)"
   ]
  },
  {
   "cell_type": "code",
   "execution_count": 13,
   "metadata": {},
   "outputs": [
    {
     "data": {
      "text/plain": [
       "-1.0"
      ]
     },
     "execution_count": 13,
     "metadata": {},
     "output_type": "execute_result"
    }
   ],
   "source": [
    "# What about losses?\n",
    "win_rate(0,1)"
   ]
  },
  {
   "cell_type": "code",
   "execution_count": 14,
   "metadata": {},
   "outputs": [
    {
     "data": {
      "text/plain": [
       "-0.16666666666666663"
      ]
     },
     "execution_count": 14,
     "metadata": {},
     "output_type": "execute_result"
    }
   ],
   "source": [
    "win_rate(5,12)"
   ]
  },
  {
   "cell_type": "code",
   "execution_count": 15,
   "metadata": {},
   "outputs": [
    {
     "data": {
      "text/plain": [
       "-1.1666666665911638"
      ]
     },
     "execution_count": 15,
     "metadata": {},
     "output_type": "execute_result"
    }
   ],
   "source": [
    "win_rate(5,12) - np.tanh(12)"
   ]
  },
  {
   "cell_type": "markdown",
   "metadata": {},
   "source": [
    "##### Natural logarithm"
   ]
  },
  {
   "cell_type": "code",
   "execution_count": 16,
   "metadata": {},
   "outputs": [
    {
     "data": {
      "text/plain": [
       "1.0"
      ]
     },
     "execution_count": 16,
     "metadata": {},
     "output_type": "execute_result"
    }
   ],
   "source": [
    "win_rate(1,1) + np.log(1)"
   ]
  },
  {
   "cell_type": "code",
   "execution_count": 17,
   "metadata": {},
   "outputs": [
    {
     "data": {
      "text/plain": [
       "1.431945622001443"
      ]
     },
     "execution_count": 17,
     "metadata": {},
     "output_type": "execute_result"
    }
   ],
   "source": [
    "win_rate(2,3) + np.log(3)"
   ]
  },
  {
   "cell_type": "code",
   "execution_count": 18,
   "metadata": {},
   "outputs": [
    {
     "data": {
      "text/plain": [
       "2.1250928025613884"
      ]
     },
     "execution_count": 18,
     "metadata": {},
     "output_type": "execute_result"
    }
   ],
   "source": [
    "win_rate(4,6) + np.log(6)"
   ]
  },
  {
   "cell_type": "code",
   "execution_count": 19,
   "metadata": {},
   "outputs": [
    {
     "data": {
      "text/plain": [
       "2.651573316454667"
      ]
     },
     "execution_count": 19,
     "metadata": {},
     "output_type": "execute_result"
    }
   ],
   "source": [
    "# Overshadows lower winrate, not what we want\n",
    "win_rate(7,12) + np.log(12)"
   ]
  },
  {
   "cell_type": "markdown",
   "metadata": {},
   "source": [
    "##### Square root"
   ]
  },
  {
   "cell_type": "code",
   "execution_count": 20,
   "metadata": {},
   "outputs": [
    {
     "data": {
      "text/plain": [
       "2.0"
      ]
     },
     "execution_count": 20,
     "metadata": {},
     "output_type": "execute_result"
    }
   ],
   "source": [
    "win_rate(1,1) + np.sqrt(1)"
   ]
  },
  {
   "cell_type": "code",
   "execution_count": 21,
   "metadata": {},
   "outputs": [
    {
     "data": {
      "text/plain": [
       "2.0653841409022107"
      ]
     },
     "execution_count": 21,
     "metadata": {},
     "output_type": "execute_result"
    }
   ],
   "source": [
    "win_rate(2,3) + np.sqrt(3)"
   ]
  },
  {
   "cell_type": "code",
   "execution_count": 22,
   "metadata": {},
   "outputs": [
    {
     "data": {
      "text/plain": [
       "2.782823076116511"
      ]
     },
     "execution_count": 22,
     "metadata": {},
     "output_type": "execute_result"
    }
   ],
   "source": [
    "win_rate(4,6) + np.sqrt(6)"
   ]
  },
  {
   "cell_type": "code",
   "execution_count": 23,
   "metadata": {},
   "outputs": [
    {
     "data": {
      "text/plain": [
       "3.6307682818044213"
      ]
     },
     "execution_count": 23,
     "metadata": {},
     "output_type": "execute_result"
    }
   ],
   "source": [
    "win_rate(7,12) + np.sqrt(12)"
   ]
  },
  {
   "cell_type": "markdown",
   "metadata": {},
   "source": [
    "##### Conclusion\n",
    "\n",
    "\\begin{equation*}\n",
    "goodpickscore(n_{wins}, n) = winrate(n_{wins}, n) + \\frac{winrate(n_{wins}, n)}{\\mid winrate(n_{wins}, n) \\mid} * bias(n)\n",
    "\\end{equation*}\n",
    "\n",
    "Unfortunately, it is not adequate in helping the algorithm to favour 2-1 over 1-0.  "
   ]
  },
  {
   "cell_type": "markdown",
   "metadata": {},
   "source": [
    "### Option B\n",
    "\n",
    "    Option B: goodpickscore(n_wins, n) = win_rate(n_wins, n) * bias(n)\n",
    "\n",
    "Let the logistic sigmoid function be our bias function."
   ]
  },
  {
   "cell_type": "code",
   "execution_count": 24,
   "metadata": {},
   "outputs": [
    {
     "data": {
      "text/plain": [
       "0.7310585786300049"
      ]
     },
     "execution_count": 24,
     "metadata": {},
     "output_type": "execute_result"
    }
   ],
   "source": [
    "win_rate(1,1) * sigmoid(1)"
   ]
  },
  {
   "cell_type": "code",
   "execution_count": 25,
   "metadata": {},
   "outputs": [
    {
     "data": {
      "text/plain": [
       "0.31752470894081103"
      ]
     },
     "execution_count": 25,
     "metadata": {},
     "output_type": "execute_result"
    }
   ],
   "source": [
    "# Doesn't pass test 1\n",
    "win_rate(2,3) * sigmoid(3)"
   ]
  },
  {
   "cell_type": "markdown",
   "metadata": {},
   "source": [
    "##### Natural logarithm"
   ]
  },
  {
   "cell_type": "code",
   "execution_count": 26,
   "metadata": {},
   "outputs": [
    {
     "data": {
      "text/plain": [
       "0.0"
      ]
     },
     "execution_count": 26,
     "metadata": {},
     "output_type": "execute_result"
    }
   ],
   "source": [
    "# It is undesirable to reduce 1-matches to 0.0\n",
    "win_rate(1,1) * np.log(1)"
   ]
  },
  {
   "cell_type": "code",
   "execution_count": 27,
   "metadata": {},
   "outputs": [
    {
     "data": {
      "text/plain": [
       "0.26236426446749106"
      ]
     },
     "execution_count": 27,
     "metadata": {},
     "output_type": "execute_result"
    }
   ],
   "source": [
    "# Therefore, lets increase it to np.log(x + p)\n",
    "win_rate(1,1) * np.log(1 + 0.3)"
   ]
  },
  {
   "cell_type": "code",
   "execution_count": 28,
   "metadata": {},
   "outputs": [
    {
     "data": {
      "text/plain": [
       "0.0"
      ]
     },
     "execution_count": 28,
     "metadata": {},
     "output_type": "execute_result"
    }
   ],
   "source": [
    "win_rate(1,2) * np.log(2 + 0.3)"
   ]
  },
  {
   "cell_type": "code",
   "execution_count": 29,
   "metadata": {},
   "outputs": [
    {
     "data": {
      "text/plain": [
       "0.8329091229351039"
      ]
     },
     "execution_count": 29,
     "metadata": {},
     "output_type": "execute_result"
    }
   ],
   "source": [
    "win_rate(2,2) * np.log(2 + 0.3)"
   ]
  },
  {
   "cell_type": "code",
   "execution_count": 30,
   "metadata": {},
   "outputs": [
    {
     "data": {
      "text/plain": [
       "0.3979741561574781"
      ]
     },
     "execution_count": 30,
     "metadata": {},
     "output_type": "execute_result"
    }
   ],
   "source": [
    "win_rate(2,3) * np.log(3 + 0.3)"
   ]
  },
  {
   "cell_type": "code",
   "execution_count": 31,
   "metadata": {},
   "outputs": [
    {
     "data": {
      "text/plain": [
       "1.1939224684724346"
      ]
     },
     "execution_count": 31,
     "metadata": {},
     "output_type": "execute_result"
    }
   ],
   "source": [
    "win_rate(3,3) * np.log(3 + 0.3)"
   ]
  },
  {
   "cell_type": "code",
   "execution_count": 32,
   "metadata": {},
   "outputs": [
    {
     "data": {
      "text/plain": [
       "0.6135165444658288"
      ]
     },
     "execution_count": 32,
     "metadata": {},
     "output_type": "execute_result"
    }
   ],
   "source": [
    "win_rate(4,6) * np.log(6 + 0.3)"
   ]
  },
  {
   "cell_type": "code",
   "execution_count": 33,
   "metadata": {},
   "outputs": [
    {
     "data": {
      "text/plain": [
       "0.4182665437297289"
      ]
     },
     "execution_count": 33,
     "metadata": {},
     "output_type": "execute_result"
    }
   ],
   "source": [
    "# Jackpot!\n",
    "win_rate(7,12) * np.log(12 + 0.3)"
   ]
  },
  {
   "cell_type": "markdown",
   "metadata": {},
   "source": [
    "##### Conclusion\n",
    "\n",
    "We should use\n",
    "\\begin{equation*}\n",
    "goodpickscore(n_{wins}, n) = winrate(n_{wins}, n) * ln(n + p), 0 \\lt p \\leq 0.5\n",
    "\\end{equation*}\n",
    "\n",
    "However, the draw back is that when win = lose, the result is 0. The first approach does better in this case as it will encourage the algorithm to favour 'seen' compositions over unseen ones, while this approach does not give them this benefit."
   ]
  },
  {
   "cell_type": "code",
   "execution_count": 34,
   "metadata": {},
   "outputs": [
    {
     "data": {
      "text/plain": [
       "array([0. , 0.1, 0.2, 0.3, 0.4, 0.5, 0.6, 0.7, 0.8, 0.9, 1. ])"
      ]
     },
     "execution_count": 34,
     "metadata": {},
     "output_type": "execute_result"
    }
   ],
   "source": [
    "# Try to find \n",
    "\n",
    "def goodpickscore(n_wins, n, p):\n",
    "    return win_rate(n_wins, n) * np.log(n + p)\n",
    "\n",
    "X = np.linspace(0,1,11)\n",
    "X"
   ]
  },
  {
   "cell_type": "code",
   "execution_count": 35,
   "metadata": {},
   "outputs": [
    {
     "data": {
      "text/plain": [
       "[<matplotlib.lines.Line2D at 0x1ece9bac3c8>]"
      ]
     },
     "execution_count": 35,
     "metadata": {},
     "output_type": "execute_result"
    },
    {
     "data": {
      "image/png": "[encoded data removed]",
      "text/plain": [
       "<Figure size 432x288 with 1 Axes>"
      ]
     },
     "metadata": {
      "needs_background": "light"
     },
     "output_type": "display_data"
    }
   ],
   "source": [
    "for x in X:\n",
    "    plt.plot([1,2,3,4,5], [goodpickscore(1,1,x), goodpickscore(2,2,x), goodpickscore(2,3,x), goodpickscore(4,6,x), goodpickscore(7,12,x)])\n",
    "\n",
    "# Anything above this orange line should not be considered.\n",
    "plt.plot([1,2,3,4,5], [0.47,0.47,0.47,0.47,0.47])"
   ]
  },
  {
   "cell_type": "code",
   "execution_count": 36,
   "metadata": {},
   "outputs": [
    {
     "data": {
      "image/png": "[encoded data removed]",
      "text/plain": [
       "<Figure size 432x288 with 1 Axes>"
      ]
     },
     "metadata": {
      "needs_background": "light"
     },
     "output_type": "display_data"
    }
   ],
   "source": [
    "# Try to find a good p for our goodpickscore\n",
    "X = np.linspace(0,0.5,6)\n",
    "\n",
    "for x in X:\n",
    "    plt.plot([1,2,3,4,5], [goodpickscore(1,1,x), goodpickscore(2,2,x), goodpickscore(2,3,x), goodpickscore(4,6,x), goodpickscore(7,12,x)])\n"
   ]
  },
  {
   "cell_type": "markdown",
   "metadata": {},
   "source": [
    "Since a team that has been played once and won is more reliable than a team that has never been played before, we cannot allow p = 0 as that would penalise this.\n",
    "\n",
    "However, we would like the algorithm to favour compositions that are played more often, and therefore, p = 0.2 and 0.3 are good for this as the gap between 1-0 and 2-1 is larger than for p=0.4 and p=0.5\n",
    "\n",
    "\\begin{equation*}\n",
    "goodpickscore(n_{wins}, n) = winrate(n_{wins}, n) * ln(n + p), 0.2 \\leq p \\leq 0.3\n",
    "\\end{equation*}"
   ]
  },
  {
   "cell_type": "markdown",
   "metadata": {},
   "source": [
    "## Option C\n",
    "\n",
    "Since Option B has the draw back for win = lose cases, we need to improve Option B so that it still favours them over team compositions that have seen 0 plays.\n",
    "\n",
    "As such, we propose\n",
    "\n",
    "\\begin{equation*}\n",
    "goodpickscore(n_{wins}, n) = winrate(n_{wins}, n) * ln(n + p) + s * bias(n), p = 0.2\n",
    "\\end{equation*}\n",
    "\n",
    "\\begin{equation*}\n",
    "s = -1, winrate(n_{wins}, n) < 0\n",
    "\\end{equation*}\n",
    "\n",
    "\\begin{equation*}\n",
    "s = 1, winrate(n_{wins}, n) \\geq 0\n",
    "\\end{equation*}\n",
    "\n",
    "Where we merged both Option A and B together"
   ]
  },
  {
   "cell_type": "code",
   "execution_count": 37,
   "metadata": {},
   "outputs": [
    {
     "name": "stdout",
     "output_type": "stream",
     "text": [
      "Out of 1 matches\n",
      "0-1: -0.9439157127497194\n",
      "1-0:  0.9439157127497194\n",
      "\n",
      "Out of 2 matches\n",
      "0-2: -1.752484940440087\n",
      "1-1:  0.9640275800758169\n",
      "2-0:  1.752484940440087\n",
      "\n",
      "Out of 3 matches\n",
      "0-3: -2.1582055634924115\n",
      "1-2: -1.382771690288624\n",
      "2-1:  1.382771690288624\n",
      "3-0:  2.1582055634924115\n",
      "\n",
      "Out of 4 matches\n",
      "0-4: -2.4344138250283898\n",
      "1-3: -1.7168715623837283\n",
      "2-2:  0.999329299739067\n",
      "3-1:  1.7168715623837283\n",
      "4-0:  2.4344138250283898\n",
      "\n",
      "Others\n",
      "4-2: 1.6081708090011442\n",
      "7-5: 1.4169059918810327\n"
     ]
    }
   ],
   "source": [
    "def goodpickscore(n_wins, n):\n",
    "    p = 0.2\n",
    "    w = win_rate(n_wins, n)\n",
    "    s = np.sign(w)\n",
    "    if s == 0:\n",
    "        s = 1\n",
    "    return w * np.log(n + p) + s * np.tanh(n)\n",
    "\n",
    "print(\"Out of 1 matches\")\n",
    "print(\"0-1: %s\"  % goodpickscore(0,1))\n",
    "print(\"1-0:  %s\" % goodpickscore(1,1))\n",
    "print()\n",
    "print(\"Out of 2 matches\")\n",
    "print(\"0-2: %s\"  % goodpickscore(0,2))\n",
    "print(\"1-1:  %s\" % goodpickscore(1,2))\n",
    "print(\"2-0:  %s\" % goodpickscore(2,2))\n",
    "print()\n",
    "print(\"Out of 3 matches\")\n",
    "print(\"0-3: %s\"  % goodpickscore(0,3))\n",
    "print(\"1-2: %s\"  % goodpickscore(1,3))\n",
    "print(\"2-1:  %s\" % goodpickscore(2,3))\n",
    "print(\"3-0:  %s\" % goodpickscore(3,3))\n",
    "print()\n",
    "print(\"Out of 4 matches\")\n",
    "print(\"0-4: %s\"  % goodpickscore(0,4))\n",
    "print(\"1-3: %s\"  % goodpickscore(1,4))\n",
    "print(\"2-2:  %s\" % goodpickscore(2,4))\n",
    "print(\"3-1:  %s\" % goodpickscore(3,4))\n",
    "print(\"4-0:  %s\" % goodpickscore(4,4))\n",
    "print()\n",
    "print(\"Others\")\n",
    "print(\"4-2: %s\" % goodpickscore(4,6))\n",
    "print(\"7-5: %s\" % goodpickscore(7,12))"
   ]
  },
  {
   "cell_type": "code",
   "execution_count": 38,
   "metadata": {},
   "outputs": [
    {
     "data": {
      "text/plain": [
       "['0-4: -2.4344138250283898',\n",
       " '0-3: -2.1582055634924115',\n",
       " '0-2: -1.752484940440087',\n",
       " '1-3: -1.7168715623837283',\n",
       " '1-2: -1.382771690288624',\n",
       " '0-1: -0.9439157127497194',\n",
       " '1-0: 0.9439157127497194',\n",
       " '1-1: 0.9640275800758169',\n",
       " '2-2: 0.999329299739067',\n",
       " '2-1: 1.382771690288624',\n",
       " '3-1: 1.7168715623837283',\n",
       " '2-0: 1.752484940440087',\n",
       " '3-0: 2.1582055634924115',\n",
       " '4-0: 2.4344138250283898']"
      ]
     },
     "execution_count": 38,
     "metadata": {},
     "output_type": "execute_result"
    }
   ],
   "source": [
    "scores = {\n",
    "    \"0-1\": goodpickscore(0,1),\n",
    "    \"1-0\": goodpickscore(1,1),\n",
    "    \n",
    "    \"0-2\": goodpickscore(0,2),\n",
    "    \"1-1\": goodpickscore(1,2),\n",
    "    \"2-0\": goodpickscore(2,2),\n",
    "    \n",
    "    \"0-3\": goodpickscore(0,3),\n",
    "    \"1-2\": goodpickscore(1,3),\n",
    "    \"2-1\": goodpickscore(2,3),\n",
    "    \"3-0\": goodpickscore(3,3),\n",
    "    \n",
    "    \"0-4\": goodpickscore(0,4),\n",
    "    \"1-3\": goodpickscore(1,4),\n",
    "    \"2-2\": goodpickscore(2,4),\n",
    "    \"3-1\": goodpickscore(3,4),\n",
    "    \"4-0\": goodpickscore(4,4)\n",
    "}\n",
    "\n",
    "inv_map = {v: k for k, v in scores.items()}\n",
    "\n",
    "[\"%s: %s\" % (inv_map[i],i) for i in sorted(list(scores.values()))]  "
   ]
  },
  {
   "cell_type": "markdown",
   "metadata": {},
   "source": [
    "Above is how our scoring function would rank the win-losses. It is pretty satisfactory except we feel that 3-1 is better than 2-0. However since they are pretty close together we decided not to change it further."
   ]
  },
  {
   "cell_type": "markdown",
   "metadata": {},
   "source": [
    "### What about a simpler approach\n",
    "\n",
    "Win = +20\n",
    "Lose = +5\n",
    "\n",
    "This will favour more matches played which is one of the factors we are looking for. Teams that win more will always be above teams that lose more\n",
    "\n",
    "However, it is bad for 2 reasons. \n",
    "\n",
    "1. No negative - Unable to tell which team comp is bad vs lack of plays.\n",
    "2. Case of 20 wins in 20 matches vs 40 wins 60 losses in 100 matches. \n",
    "\n",
    "First scenario is obviously better than second scenario, and could be representative of a new meta team, but this approach favours more games way too much to be able to adapt.\n"
   ]
  },
  {
   "cell_type": "code",
   "execution_count": 40,
   "metadata": {},
   "outputs": [
    {
     "name": "stdout",
     "output_type": "stream",
     "text": [
      "20-0  | points:400 - goodpickscore:4.005682604407159\n",
      "40-60 | points:1100 - goodpickscore:2.3658907841049253\n"
     ]
    }
   ],
   "source": [
    "print(\"20-0  | points:%s - goodpickscore:%s\" % (20*20, goodpickscore(20,20)))\n",
    "print(\"40-60 | points:%s - goodpickscore:%s\" % (40*20+60*5, goodpickscore(40,60)))"
   ]
  },
  {
   "cell_type": "markdown",
   "metadata": {},
   "source": [
    "### Limitations\n",
    "\n",
    "LOL will always revisit and revamp champions from time to time. goodpickscore is also affected by historical data, it will take a long time for goodpickscore to catch up to the meta. Some scoring algorithms combat this by giving more weight to more recent matches. We may explore this when we have more data per team composition.\n"
   ]
  },
  {
   "cell_type": "markdown",
   "metadata": {},
   "source": [
    "### Future Plans\n",
    "\n",
    "There are many scoring systems that have been adopted by games, organisations and tournament alike. Instead of rolling our own scoring system, we might want to take a leaf out of how other organisations implement theirs. One notable point that other scoring systems account for that ours doesn't is that they take into account how strong the opponent is. However, due to our limited dataset, it is not realistic for us to assess the relative strength of each team composition. This is something that needs to be addressed as more and more data is made available."
   ]
  }
 ],
 "metadata": {
  "kernelspec": {
   "display_name": "Python 3 (ipykernel)",
   "language": "python",
   "name": "python3"
  },
  "language_info": {
   "codemirror_mode": {
    "name": "ipython",
    "version": 3
   },
   "file_extension": ".py",
   "mimetype": "text/x-python",
   "name": "python",
   "nbconvert_exporter": "python",
   "pygments_lexer": "ipython3",
   "version": "3.9.13"
  }
 },
 "nbformat": 4,
 "nbformat_minor": 2
}
